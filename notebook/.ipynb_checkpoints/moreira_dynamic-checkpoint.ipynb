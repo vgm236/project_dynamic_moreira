{
 "cells": [
  {
   "cell_type": "markdown",
   "id": "b679b64a-fde4-492c-a2be-78c1c68ba2fa",
   "metadata": {},
   "source": [
    "# Applications of GARCH model to risk modeling"
   ]
  },
  {
   "cell_type": "markdown",
   "id": "2ab38521-f505-40c5-b56d-e4d0b36f6f9d",
   "metadata": {},
   "source": [
    "This notebook was prepared by: \n",
    "\n",
    "Vinicius Moreira (vgm236@nyu.edu)\n",
    "\n",
    "Graduate School of Arts and Science (GSAS) at New York University (NYU)\n",
    "\n",
    "May 2022"
   ]
  },
  {
   "cell_type": "markdown",
   "id": "14669a61-dc75-4458-8ccd-de0eff6fafd2",
   "metadata": {},
   "source": [
    "## Summary"
   ]
  },
  {
   "cell_type": "markdown",
   "id": "2accd4f7-2b08-411a-9016-ff9b99614eca",
   "metadata": {
    "tags": []
   },
   "source": [
    "This repository discusses the Generalized AutoRegressive Conditional Heteroskedasticity (GARCH) and its applications. We first briefly explain some of its history, the math, the logic and the program behind this method. Then, we apply the GARCH model into two similar, but different models: the Value-At-Risk (Var) and the Expected Shortfall (ES).\n",
    "\n",
    "This is part of the QuantEcon class at NYU called Dynamic Models for Computational Social Science, taught by Drs. Thomas Sargent, Spencer Lyon and Chase Coleman."
   ]
  },
  {
   "cell_type": "code",
   "execution_count": 1,
   "id": "98bb378e-82a2-46a6-97c5-609e595e2251",
   "metadata": {},
   "outputs": [],
   "source": [
    "#Packages\n",
    "\n",
    "%matplotlib inline"
   ]
  },
  {
   "cell_type": "markdown",
   "id": "cdd6165c-13b8-4cb1-a886-b4c11cb4dfcf",
   "metadata": {
    "tags": []
   },
   "source": [
    "## A brief story of GARCH and risk modeling"
   ]
  },
  {
   "cell_type": "markdown",
   "id": "6f99f56b-01fe-46b2-a8ca-5b6bf81723a6",
   "metadata": {},
   "source": []
  },
  {
   "cell_type": "markdown",
   "id": "562b62d8-6e65-4ee9-a9a1-a02055049d18",
   "metadata": {},
   "source": [
    "## ARCH and GARCH models: the math"
   ]
  },
  {
   "cell_type": "markdown",
   "id": "927abdfb-b4a3-40f2-a3c1-84500e9e8c62",
   "metadata": {},
   "source": []
  },
  {
   "cell_type": "markdown",
   "id": "1ebbdc01-daa2-41cc-b81a-537c83ca76bb",
   "metadata": {},
   "source": [
    "## Application to Value-At-Risk: one asset"
   ]
  },
  {
   "cell_type": "markdown",
   "id": "f1509b12-1172-4bea-86cd-256f1eb8ab5b",
   "metadata": {},
   "source": []
  },
  {
   "cell_type": "markdown",
   "id": "bf23602f-bd86-42da-9aa6-b7044d29ae34",
   "metadata": {},
   "source": [
    "## Application to Value-At-Risk: two assets"
   ]
  },
  {
   "cell_type": "markdown",
   "id": "51cb8cd5-6c86-4a4b-bfa9-02837fbb6d27",
   "metadata": {},
   "source": []
  },
  {
   "cell_type": "markdown",
   "id": "daec3f2f-c9d3-47df-ada0-ca87d0f76fee",
   "metadata": {
    "tags": []
   },
   "source": [
    "## Application to Expected Shortfall (ES)"
   ]
  },
  {
   "cell_type": "markdown",
   "id": "239c75c8-edcd-41b2-a545-aa1b2e890a36",
   "metadata": {},
   "source": []
  },
  {
   "cell_type": "markdown",
   "id": "a6514574-2d55-4fd5-bb4d-ae9fc9f17332",
   "metadata": {},
   "source": [
    "## Conclusion"
   ]
  },
  {
   "cell_type": "markdown",
   "id": "8b615b80-77fe-44f0-b55e-24a671a87a88",
   "metadata": {},
   "source": []
  },
  {
   "cell_type": "markdown",
   "id": "1a41b0c9-3fea-48c2-8de3-1e3ab3bc1fe7",
   "metadata": {},
   "source": [
    "## References"
   ]
  },
  {
   "cell_type": "markdown",
   "id": "fc21434a-36bf-4cdb-b76e-a3229dea6d3b",
   "metadata": {},
   "source": [
    "Engle, Robert F. “Autoregressive Conditional Heteroscedasticity with Estimates of the Variance of United Kingdom Inflation.” Econometrica, vol. 50, no. 4, 1982, pp. 987–1007, https://doi.org/10.2307/1912773. Accessed 24 Apr. 2022.\n",
    "\n",
    "Engle, Robert. “Risk and Volatility: Econometric Models and Financial Practice.” The American Economic Review, vol. 94, no. 3, 2004, pp. 405–20, http://www.jstor.org/stable/3592935. Accessed 24 Apr. 2022.\n",
    "\n",
    "Engle, Robert F. and Patton, Andrew J., What Good is a Volatility Model? (January 2001). NYU Working Paper No. S-DRP-01-03, Available at SSRN: https://ssrn.com/abstract=1296430\n",
    "\n",
    "Kaplanski, Guy and Kroll, Yoram, VAR Risk Measures Versus Traditional Risk Measures: An Analysis and Survey (December 1, 2001). Journal of Risk, Vol. 4, Issue 3, pp. 1-27, 2002, Available at SSRN: https://ssrn.com/abstract=271992 or http://dx.doi.org/10.2139/ssrn.271992\n",
    "\n",
    "Yang, Chelsea VaR in financial risk management: GARCH models in Python. Class from DataCamp. Available here: https://projector-video-pdf-converter.datacamp.com/22276/chapter4.pdf"
   ]
  }
 ],
 "metadata": {
  "kernelspec": {
   "display_name": "Python 3",
   "language": "python",
   "name": "python3"
  },
  "language_info": {
   "codemirror_mode": {
    "name": "ipython",
    "version": 3
   },
   "file_extension": ".py",
   "mimetype": "text/x-python",
   "name": "python",
   "nbconvert_exporter": "python",
   "pygments_lexer": "ipython3",
   "version": "3.8.8"
  }
 },
 "nbformat": 4,
 "nbformat_minor": 5
}
